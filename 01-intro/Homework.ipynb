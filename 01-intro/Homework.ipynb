{
 "cells": [
  {
   "cell_type": "code",
   "execution_count": 55,
   "id": "393896fa",
   "metadata": {},
   "outputs": [],
   "source": [
    "import pandas as pd\n",
    "import numpy as np"
   ]
  },
  {
   "cell_type": "markdown",
   "id": "0d108983",
   "metadata": {},
   "source": [
    "### Question 1: Version of Pandas"
   ]
  },
  {
   "cell_type": "code",
   "execution_count": 56,
   "id": "b9e01def",
   "metadata": {},
   "outputs": [
    {
     "name": "stdout",
     "output_type": "stream",
     "text": [
      "2.0.3\n"
     ]
    }
   ],
   "source": [
    "print(pd.__version__)"
   ]
  },
  {
   "cell_type": "markdown",
   "id": "5caec5d0",
   "metadata": {},
   "source": [
    "### Question 2: Number of columns in the dataset"
   ]
  },
  {
   "cell_type": "code",
   "execution_count": 57,
   "id": "a06b7ea5",
   "metadata": {},
   "outputs": [
    {
     "data": {
      "text/plain": [
       "10"
      ]
     },
     "execution_count": 57,
     "metadata": {},
     "output_type": "execute_result"
    }
   ],
   "source": [
    "df = pd.read_csv('housing.csv')\n",
    "len(df.columns)"
   ]
  },
  {
   "cell_type": "markdown",
   "metadata": {},
   "source": [
    "### Question 3: Select columns with missing data"
   ]
  },
  {
   "cell_type": "code",
   "execution_count": 58,
   "id": "609e51e9",
   "metadata": {},
   "outputs": [
    {
     "data": {
      "text/plain": [
       "longitude               0\n",
       "latitude                0\n",
       "housing_median_age      0\n",
       "total_rooms             0\n",
       "total_bedrooms        207\n",
       "population              0\n",
       "households              0\n",
       "median_income           0\n",
       "median_house_value      0\n",
       "ocean_proximity         0\n",
       "dtype: int64"
      ]
     },
     "execution_count": 58,
     "metadata": {},
     "output_type": "execute_result"
    }
   ],
   "source": [
    "df.isnull().sum()"
   ]
  },
  {
   "cell_type": "markdown",
   "id": "91488bb3",
   "metadata": {},
   "source": [
    "### Question 4: Number of unique values in the 'ocean_proximity' column "
   ]
  },
  {
   "cell_type": "code",
   "execution_count": 59,
   "id": "c0938f98",
   "metadata": {},
   "outputs": [
    {
     "data": {
      "text/plain": [
       "5"
      ]
     },
     "execution_count": 59,
     "metadata": {},
     "output_type": "execute_result"
    }
   ],
   "source": [
    "len(df['ocean_proximity'].unique())"
   ]
  },
  {
   "cell_type": "markdown",
   "id": "3ed036f3",
   "metadata": {},
   "source": [
    "### Question 5: Average value of the 'median_house_value' for the houses near the bay"
   ]
  },
  {
   "cell_type": "code",
   "execution_count": 60,
   "id": "f8638328",
   "metadata": {},
   "outputs": [
    {
     "data": {
      "text/plain": [
       "259212.31"
      ]
     },
     "execution_count": 60,
     "metadata": {},
     "output_type": "execute_result"
    }
   ],
   "source": [
    "df_near_bay = df[df['ocean_proximity'] == 'NEAR BAY']\n",
    "median_house_mean = df_near_bay.median_house_value.mean().round(2)\n",
    "median_house_mean"
   ]
  },
  {
   "cell_type": "markdown",
   "id": "4b86b738",
   "metadata": {},
   "source": [
    "### Question 6: Has the mean value changed after filling missing values? (Google Form)"
   ]
  },
  {
   "cell_type": "code",
   "execution_count": 61,
   "id": "20d4a04b",
   "metadata": {},
   "outputs": [
    {
     "data": {
      "text/plain": [
       "False"
      ]
     },
     "execution_count": 61,
     "metadata": {},
     "output_type": "execute_result"
    }
   ],
   "source": [
    "df_nb_clean = df_near_bay.dropna()\n",
    "median_house_clean_mean = df_nb_clean.median_house_value.mean().round(2)\n",
    "median_house_clean_mean == median_house_mean"
   ]
  },
  {
   "cell_type": "markdown",
   "id": "3e72481d",
   "metadata": {},
   "source": [
    "### Question 6 (Repository):\n",
    "1. Calculate the average of total_bedrooms column in the dataset.\n",
    "2. Use the fillna method to fill the missing values in total_bedrooms with the mean value from the previous step.\n",
    "3. Now, calculate the average of total_bedrooms again.\n",
    "4. Has it changed?\n",
    "\n",
    "> Hint: take into account only 3 digits after the decimal point."
   ]
  },
  {
   "cell_type": "code",
   "execution_count": 62,
   "metadata": {},
   "outputs": [
    {
     "data": {
      "text/plain": [
       "'bedrooms_mean=537.871 - bedrooms_fill_mean=537.871'"
      ]
     },
     "execution_count": 62,
     "metadata": {},
     "output_type": "execute_result"
    }
   ],
   "source": [
    "bedrooms_mean = df.total_bedrooms.mean().round(3)\n",
    "df_fill = df.fillna(bedrooms_mean)\n",
    "bedrooms_fill_mean = df_fill.total_bedrooms.mean().round(3)\n",
    "\n",
    "f\"bedrooms_mean={bedrooms_mean} - bedrooms_fill_mean={bedrooms_fill_mean}\""
   ]
  },
  {
   "cell_type": "markdown",
   "id": "2fde577b",
   "metadata": {},
   "source": [
    "### Question 7\n",
    "\n",
    "1. Select all the options located on islands.\n",
    "2. Select only columns `housing_median_age`, `total_rooms`, `total_bedrooms`.\n",
    "3. Get the underlying NumPy array. Let's call it `X`.\n",
    "4. Compute matrix-matrix multiplication between the transpose of `X` and `X`. To get the transpose, use `X.T`. Let's call the result `XTX`.\n",
    "5. Compute the inverse of `XTX`.\n",
    "6. Create an array `y` with values `[950, 1300, 800, 1000, 1300]`.\n",
    "7. Multiply the inverse of `XTX` with the transpose of `X`, and then multiply the result by `y`. Call the result `w`.\n",
    "8. What's the value of the last element of `w`?\n",
    "\n",
    "> **Note**: You just implemented linear regression. We'll talk about it in the next lesson.\n",
    "\n",
    "- -1.4812\n",
    "- 0.001\n",
    "- 5.6992\n",
    "- 23.1233"
   ]
  },
  {
   "cell_type": "code",
   "execution_count": 100,
   "id": "26335f3d",
   "metadata": {},
   "outputs": [
    {
     "data": {
      "text/plain": [
       "array([23.12330961, -1.48124183,  5.69922946])"
      ]
     },
     "execution_count": 100,
     "metadata": {},
     "output_type": "execute_result"
    }
   ],
   "source": [
    "df_islands = df[df.ocean_proximity == \"ISLAND\"]\n",
    "x = df_islands[[\"housing_median_age\", \"total_rooms\", \"total_bedrooms\"]].to_numpy()\n",
    "XTX = x.T.dot(x)\n",
    "XTX_inv = np.linalg.inv(XTX)\n",
    "y = np.array([950, 1300, 800, 1000, 1300])\n",
    "w = XTX_inv.dot(x.T).dot(y)\n",
    "w"
   ]
  }
 ],
 "metadata": {
  "kernelspec": {
   "display_name": "Python 3 (ipykernel)",
   "language": "python",
   "name": "python3"
  },
  "language_info": {
   "codemirror_mode": {
    "name": "ipython",
    "version": 3
   },
   "file_extension": ".py",
   "mimetype": "text/x-python",
   "name": "python",
   "nbconvert_exporter": "python",
   "pygments_lexer": "ipython3",
   "version": "3.9.18"
  }
 },
 "nbformat": 4,
 "nbformat_minor": 5
}
