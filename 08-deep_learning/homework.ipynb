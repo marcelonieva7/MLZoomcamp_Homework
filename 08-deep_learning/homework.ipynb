{
 "cells": [
  {
   "cell_type": "code",
   "execution_count": 7,
   "metadata": {},
   "outputs": [],
   "source": [
    "import numpy as np\n",
    "import matplotlib.pyplot as plt\n",
    "%matplotlib inline\n",
    "\n",
    "from tensorflow import keras\n",
    "\n",
    "from tensorflow.keras import layers\n",
    "from tensorflow.keras import models\n",
    "from tensorflow.keras import optimizers\n",
    "\n",
    "from tensorflow.keras.preprocessing.image import ImageDataGenerator\n",
    "from tensorflow.keras.preprocessing import image"
   ]
  },
  {
   "cell_type": "markdown",
   "metadata": {},
   "source": [
    "#### Data Preparation"
   ]
  },
  {
   "cell_type": "code",
   "execution_count": 8,
   "metadata": {},
   "outputs": [],
   "source": [
    "#! wget https://github.com/SVizor42/ML_Zoomcamp/releases/download/bee-wasp-data/data.zip"
   ]
  },
  {
   "cell_type": "code",
   "execution_count": 9,
   "metadata": {},
   "outputs": [],
   "source": [
    "#!unzip data.zip"
   ]
  },
  {
   "cell_type": "markdown",
   "metadata": {},
   "source": [
    "#### Model"
   ]
  },
  {
   "cell_type": "markdown",
   "metadata": {},
   "source": [
    "- Creation"
   ]
  },
  {
   "cell_type": "code",
   "execution_count": 10,
   "metadata": {},
   "outputs": [],
   "source": [
    "model = models.Sequential()\n",
    "\n",
    "inp_shape = (150, 150, 3)\n",
    "\n",
    "model.add(layers.Conv2D(32, (3, 3), activation='relu', input_shape=inp_shape))\n",
    "model.add(layers.MaxPooling2D((2, 2)))\n",
    "model.add(layers.Flatten())\n",
    "model.add(layers.Dense(64, activation='relu'))\n",
    "model.add(layers.Dense(1, activation='sigmoid'))"
   ]
  },
  {
   "cell_type": "markdown",
   "metadata": {},
   "source": [
    "- Compilation"
   ]
  },
  {
   "cell_type": "code",
   "execution_count": 11,
   "metadata": {},
   "outputs": [],
   "source": [
    "optimizer = optimizers.SGD(learning_rate=0.002, momentum=0.8)\n",
    "model.compile(loss='binary_crossentropy', optimizer=optimizer, metrics=['acc'])"
   ]
  },
  {
   "cell_type": "markdown",
   "metadata": {},
   "source": [
    "- Summary"
   ]
  },
  {
   "cell_type": "code",
   "execution_count": 12,
   "metadata": {},
   "outputs": [
    {
     "name": "stdout",
     "output_type": "stream",
     "text": [
      "Model: \"sequential_1\"\n",
      "_________________________________________________________________\n",
      " Layer (type)                Output Shape              Param #   \n",
      "=================================================================\n",
      " conv2d_1 (Conv2D)           (None, 148, 148, 32)      896       \n",
      "                                                                 \n",
      " max_pooling2d_1 (MaxPooling  (None, 74, 74, 32)       0         \n",
      " 2D)                                                             \n",
      "                                                                 \n",
      " flatten_1 (Flatten)         (None, 175232)            0         \n",
      "                                                                 \n",
      " dense_2 (Dense)             (None, 64)                11214912  \n",
      "                                                                 \n",
      " dense_3 (Dense)             (None, 1)                 65        \n",
      "                                                                 \n",
      "=================================================================\n",
      "Total params: 11,215,873\n",
      "Trainable params: 11,215,873\n",
      "Non-trainable params: 0\n",
      "_________________________________________________________________\n"
     ]
    }
   ],
   "source": [
    "model.summary()"
   ]
  },
  {
   "cell_type": "markdown",
   "metadata": {},
   "source": [
    "#### Image Datageneeator"
   ]
  },
  {
   "cell_type": "code",
   "execution_count": 13,
   "metadata": {},
   "outputs": [],
   "source": [
    "train_datagen = ImageDataGenerator(rescale=1./255)\n",
    "test_datagen = ImageDataGenerator(rescale=1./255)"
   ]
  },
  {
   "cell_type": "markdown",
   "metadata": {},
   "source": [
    "- Train generator"
   ]
  },
  {
   "cell_type": "code",
   "execution_count": 14,
   "metadata": {},
   "outputs": [
    {
     "name": "stdout",
     "output_type": "stream",
     "text": [
      "Found 3677 images belonging to 2 classes.\n"
     ]
    }
   ],
   "source": [
    "train_generator = train_datagen.flow_from_directory('data/train/',\n",
    "                                                    target_size=(150, 150),\n",
    "                                                    batch_size=20,\n",
    "                                                    shuffle=True,\n",
    "                                                    class_mode='binary')"
   ]
  },
  {
   "cell_type": "markdown",
   "metadata": {},
   "source": [
    "- Validation Generator"
   ]
  },
  {
   "cell_type": "code",
   "execution_count": 15,
   "metadata": {},
   "outputs": [
    {
     "name": "stdout",
     "output_type": "stream",
     "text": [
      "Found 918 images belonging to 2 classes.\n"
     ]
    }
   ],
   "source": [
    "test_generator = test_datagen.flow_from_directory('data/test/',\n",
    "                                                        target_size=(150, 150),\n",
    "                                                        batch_size=20,\n",
    "                                                        shuffle=True,\n",
    "                                                        class_mode='binary', )"
   ]
  },
  {
   "cell_type": "markdown",
   "metadata": {},
   "source": [
    "- Training the model"
   ]
  },
  {
   "cell_type": "code",
   "execution_count": 16,
   "metadata": {},
   "outputs": [
    {
     "name": "stdout",
     "output_type": "stream",
     "text": [
      "Epoch 1/10\n",
      "184/184 [==============================] - 16s 83ms/step - loss: 0.6573 - acc: 0.5907 - val_loss: 0.5969 - val_acc: 0.6841\n",
      "Epoch 2/10\n",
      "184/184 [==============================] - 15s 79ms/step - loss: 0.5861 - acc: 0.6875 - val_loss: 0.5484 - val_acc: 0.7113\n",
      "Epoch 3/10\n",
      "184/184 [==============================] - 14s 78ms/step - loss: 0.5337 - acc: 0.7427 - val_loss: 0.5367 - val_acc: 0.7516\n",
      "Epoch 4/10\n",
      "184/184 [==============================] - 14s 78ms/step - loss: 0.4989 - acc: 0.7669 - val_loss: 0.5481 - val_acc: 0.7092\n",
      "Epoch 5/10\n",
      "184/184 [==============================] - 15s 79ms/step - loss: 0.4845 - acc: 0.7789 - val_loss: 0.5193 - val_acc: 0.7669\n",
      "Epoch 6/10\n",
      "184/184 [==============================] - 15s 79ms/step - loss: 0.4527 - acc: 0.7974 - val_loss: 0.5193 - val_acc: 0.7462\n",
      "Epoch 7/10\n",
      "184/184 [==============================] - 14s 79ms/step - loss: 0.4314 - acc: 0.8115 - val_loss: 0.5281 - val_acc: 0.7397\n",
      "Epoch 8/10\n",
      "184/184 [==============================] - 15s 79ms/step - loss: 0.4035 - acc: 0.8265 - val_loss: 0.5419 - val_acc: 0.7277\n",
      "Epoch 9/10\n",
      "184/184 [==============================] - 14s 78ms/step - loss: 0.3722 - acc: 0.8466 - val_loss: 0.5016 - val_acc: 0.7647\n",
      "Epoch 10/10\n",
      "184/184 [==============================] - 15s 79ms/step - loss: 0.3429 - acc: 0.8632 - val_loss: 0.5135 - val_acc: 0.7614\n"
     ]
    }
   ],
   "source": [
    "history = model.fit(\n",
    "    train_generator,\n",
    "    epochs=10,\n",
    "    validation_data=test_generator)"
   ]
  },
  {
   "cell_type": "code",
   "execution_count": 17,
   "metadata": {},
   "outputs": [
    {
     "data": {
      "text/plain": [
       "0.7881425023078918"
      ]
     },
     "execution_count": 17,
     "metadata": {},
     "output_type": "execute_result"
    }
   ],
   "source": [
    "acc_median = np.median(history.history['acc'])\n",
    "acc_median"
   ]
  },
  {
   "cell_type": "code",
   "execution_count": 18,
   "metadata": {},
   "outputs": [
    {
     "data": {
      "text/plain": [
       "0.09230162943143867"
      ]
     },
     "execution_count": 18,
     "metadata": {},
     "output_type": "execute_result"
    }
   ],
   "source": [
    "loss_std = np.std(history.history['loss'])\n",
    "loss_std"
   ]
  },
  {
   "cell_type": "markdown",
   "metadata": {},
   "source": [
    "#### DATA AUGMENTATION"
   ]
  },
  {
   "cell_type": "code",
   "execution_count": 19,
   "metadata": {},
   "outputs": [],
   "source": [
    "train_datagen = ImageDataGenerator(\n",
    "    rotation_range=50,\n",
    "    width_shift_range=0.1,\n",
    "    height_shift_range=0.1,\n",
    "    zoom_range=0.1,\n",
    "    horizontal_flip=True,\n",
    "    fill_mode='nearest')"
   ]
  },
  {
   "cell_type": "code",
   "execution_count": 20,
   "metadata": {},
   "outputs": [],
   "source": [
    "test_datagen = ImageDataGenerator(rescale=1./255)"
   ]
  },
  {
   "cell_type": "code",
   "execution_count": 21,
   "metadata": {},
   "outputs": [
    {
     "name": "stdout",
     "output_type": "stream",
     "text": [
      "Found 3677 images belonging to 2 classes.\n"
     ]
    }
   ],
   "source": [
    "train_generator = train_datagen.flow_from_directory('data/train/',\n",
    "                                                    target_size=(150, 150),\n",
    "                                                    batch_size=20,\n",
    "                                                    shuffle=True,\n",
    "                                                    class_mode='binary')"
   ]
  },
  {
   "cell_type": "code",
   "execution_count": 22,
   "metadata": {},
   "outputs": [
    {
     "name": "stdout",
     "output_type": "stream",
     "text": [
      "Found 918 images belonging to 2 classes.\n"
     ]
    }
   ],
   "source": [
    "validation_generator = test_datagen.flow_from_directory(\n",
    "    'data/test/',\n",
    "    target_size=(150, 150),\n",
    "    batch_size=32,\n",
    "    class_mode='binary')"
   ]
  },
  {
   "cell_type": "code",
   "execution_count": 23,
   "metadata": {},
   "outputs": [
    {
     "name": "stdout",
     "output_type": "stream",
     "text": [
      "Epoch 1/10\n",
      "  1/184 [..............................] - ETA: 27s - loss: 63.9537 - acc: 0.8000"
     ]
    },
    {
     "name": "stdout",
     "output_type": "stream",
     "text": [
      "184/184 [==============================] - 19s 102ms/step - loss: 179502.9531 - acc: 0.5298 - val_loss: 0.6939 - val_acc: 0.5349\n",
      "Epoch 2/10\n",
      "184/184 [==============================] - 19s 101ms/step - loss: 0.6930 - acc: 0.5390 - val_loss: 0.6936 - val_acc: 0.5327\n",
      "Epoch 3/10\n",
      "184/184 [==============================] - 19s 101ms/step - loss: 0.6905 - acc: 0.5398 - val_loss: 0.6952 - val_acc: 0.5403\n",
      "Epoch 4/10\n",
      "184/184 [==============================] - 19s 101ms/step - loss: 0.6952 - acc: 0.5388 - val_loss: 0.6911 - val_acc: 0.5436\n",
      "Epoch 5/10\n",
      "184/184 [==============================] - 19s 101ms/step - loss: 0.6920 - acc: 0.5390 - val_loss: 0.6907 - val_acc: 0.5425\n",
      "Epoch 6/10\n",
      "184/184 [==============================] - 19s 101ms/step - loss: 0.6912 - acc: 0.5385 - val_loss: 0.6921 - val_acc: 0.5370\n",
      "Epoch 7/10\n",
      "184/184 [==============================] - 19s 101ms/step - loss: 0.6893 - acc: 0.5390 - val_loss: 0.6926 - val_acc: 0.5436\n",
      "Epoch 8/10\n",
      "184/184 [==============================] - 19s 102ms/step - loss: 0.6921 - acc: 0.5401 - val_loss: 0.6940 - val_acc: 0.5392\n",
      "Epoch 9/10\n",
      "184/184 [==============================] - 19s 101ms/step - loss: 0.6904 - acc: 0.5398 - val_loss: 0.6934 - val_acc: 0.5425\n",
      "Epoch 10/10\n",
      "184/184 [==============================] - 19s 101ms/step - loss: 0.6911 - acc: 0.5382 - val_loss: 0.6952 - val_acc: 0.5381\n"
     ]
    }
   ],
   "source": [
    "#@ MODEL TRAINING WITH AUGMENTATION:\n",
    "history = model.fit(\n",
    "    train_generator,\n",
    "    epochs=10,\n",
    "    validation_data=validation_generator)"
   ]
  },
  {
   "cell_type": "code",
   "execution_count": 24,
   "metadata": {},
   "outputs": [],
   "source": [
    "val_acc = history.history['val_acc']\n",
    "\n",
    "val_loss = history.history['val_loss']"
   ]
  },
  {
   "cell_type": "code",
   "execution_count": 25,
   "metadata": {},
   "outputs": [
    {
     "data": {
      "text/plain": [
       "0.6931777894496918"
      ]
     },
     "execution_count": 25,
     "metadata": {},
     "output_type": "execute_result"
    }
   ],
   "source": [
    "np.mean(val_loss)"
   ]
  },
  {
   "cell_type": "code",
   "execution_count": 26,
   "metadata": {},
   "outputs": [
    {
     "data": {
      "text/plain": [
       "[0.5348584055900574,\n",
       " 0.5326797366142273,\n",
       " 0.5403050184249878,\n",
       " 0.5435729622840881,\n",
       " 0.5424836874008179,\n",
       " 0.5370370149612427,\n",
       " 0.5435729622840881,\n",
       " 0.5392156839370728,\n",
       " 0.5424836874008179,\n",
       " 0.5381263494491577]"
      ]
     },
     "execution_count": 26,
     "metadata": {},
     "output_type": "execute_result"
    }
   ],
   "source": [
    "val_acc"
   ]
  },
  {
   "cell_type": "code",
   "execution_count": 27,
   "metadata": {},
   "outputs": [
    {
     "data": {
      "text/plain": [
       "[0.5370370149612427,\n",
       " 0.5435729622840881,\n",
       " 0.5392156839370728,\n",
       " 0.5424836874008179,\n",
       " 0.5381263494491577]"
      ]
     },
     "execution_count": 27,
     "metadata": {},
     "output_type": "execute_result"
    }
   ],
   "source": [
    "last_5_acc = val_acc[5:10]\n",
    "last_5_acc"
   ]
  },
  {
   "cell_type": "code",
   "execution_count": 28,
   "metadata": {},
   "outputs": [
    {
     "data": {
      "text/plain": [
       "0.5400871396064758"
      ]
     },
     "execution_count": 28,
     "metadata": {},
     "output_type": "execute_result"
    }
   ],
   "source": [
    "np.mean(last_5_acc)"
   ]
  }
 ],
 "metadata": {
  "kernelspec": {
   "display_name": "ml-zoomcamp",
   "language": "python",
   "name": "python3"
  },
  "language_info": {
   "codemirror_mode": {
    "name": "ipython",
    "version": 3
   },
   "file_extension": ".py",
   "mimetype": "text/x-python",
   "name": "python",
   "nbconvert_exporter": "python",
   "pygments_lexer": "ipython3",
   "version": "3.10.12"
  },
  "orig_nbformat": 4
 },
 "nbformat": 4,
 "nbformat_minor": 2
}
